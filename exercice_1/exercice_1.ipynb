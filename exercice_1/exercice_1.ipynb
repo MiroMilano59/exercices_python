{
 "cells": [
  {
   "cell_type": "markdown",
   "metadata": {},
   "source": [
    "Exercice 1 : les impairs\n",
    "\n",
    "Écrire une fonction qui prend 2 nombres en paramètres, et qui affiche, dans l'ordre croissant, tous les entiers impairs se trouvant entre ces deux nombres. Vous devez afficher ces nombres, en les séparant uniquement d'un espace.\n",
    "\n",
    "Exemple : fonction(42.75, 52.23) doit renvoyer 43 45 47 49 51\n"
   ]
  },
  {
   "cell_type": "code",
   "execution_count": 70,
   "metadata": {},
   "outputs": [
    {
     "data": {
      "text/plain": [
       "'22 24 26 28 30 32 34 36 38 40 42 44 46 48 50'"
      ]
     },
     "execution_count": 70,
     "metadata": {},
     "output_type": "execute_result"
    }
   ],
   "source": [
    "# affichage de tous les nombres entiers impairs qui se trouveraient dans un intervalle \n",
    "\n",
    "def nombres_impairs(n1, n2) :\n",
    "    #n1 et n2 forment l'intervalle\n",
    "    # return une liste de nombre impairs qui serait comprise entre deux nombres \n",
    "    #définir \n",
    "    #qu'estce que je vais obtenir? une liste de nombre impair. pour que la liste de nombre obtenur à la fin soit impaire, iil faut que l'intervalle soit des int ou des float; l'intervalle va ensuite nous indiquer tous les nombres compris entre les chiffree entrés qui sont impaires  \n",
    "   #j'infique que n1 et n2 son des int ou float \n",
    "    #list eou chaine de charactere \n",
    "    resultat = \"\"\n",
    "    for i in range(n1, n2) : \n",
    "        if (i % 2) == 0 :\n",
    "            i += 1\n",
    "            #resultat += str(i) + \" \"\n",
    "        else :\n",
    "            resultat\n",
    "            i += 1\n",
    "            resultat += str(i) + \" \"\n",
    "    return resultat.rstrip()\n",
    "\n",
    "nombres_impairs(20,50)\n",
    "\n"
   ]
  },
  {
   "cell_type": "code",
   "execution_count": null,
   "metadata": {},
   "outputs": [],
   "source": []
  }
 ],
 "metadata": {
  "kernelspec": {
   "display_name": "Python 3",
   "language": "python",
   "name": "python3"
  },
  "language_info": {
   "codemirror_mode": {
    "name": "ipython",
    "version": 3
   },
   "file_extension": ".py",
   "mimetype": "text/x-python",
   "name": "python",
   "nbconvert_exporter": "python",
   "pygments_lexer": "ipython3",
   "version": "3.12.1"
  }
 },
 "nbformat": 4,
 "nbformat_minor": 2
}
